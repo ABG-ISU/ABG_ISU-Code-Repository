{
 "cells": [
  {
   "cell_type": "markdown",
   "metadata": {},
   "source": [
    "# Create G matrix"
   ]
  },
  {
   "cell_type": "markdown",
   "metadata": {},
   "source": [
    "Input files: genotype file"
   ]
  },
  {
   "cell_type": "markdown",
   "metadata": {},
   "source": [
    "1) Example of genotype file\n",
    "\n",
    "<img src=\"Genotype.png\" />"
   ]
  },
  {
   "cell_type": "code",
   "execution_count": null,
   "metadata": {},
   "outputs": [],
   "source": [
    "#==============================================================================#\n",
    "# Header\n",
    "#==============================================================================#\n",
    "# ISU - Animal Breeding and Genetics Group\n",
    "# Author: Leticia Sanglard (adapted from Austin Putz)\n",
    "# Created (date): 07/02/2019\n",
    "# Version (of the script): 1\n",
    "# Program (if applicable): R\n",
    "# Program Version (if applicable): R version 3.5.2 \n",
    "#==============================================================================#\n",
    "# Description: Code to create Genomic relatioship matrix from marker file\n",
    "#==============================================================================#\n",
    "\n",
    "#==============================================================================#\n",
    "# Setup\n",
    "#==============================================================================#\n",
    "#Packages needed (If applicable):\n",
    "library(reshape2)\n",
    "#Input files: marker file (ID (first column) by markers coded as 0, 1, 2) in any format (.mkr in this example)\n",
    "#Output files: genomic relationship matrix in any format (.txt in this example)\n",
    "#==============================================================================#\n",
    "\n",
    "## read marker file \n",
    "M = read.table(\"~/<path>/Genotype_file.mkr\", h=T, na.strings = \".\", check.names = F)\n",
    "##make IDs as row names \n",
    "row.names(M) = M$ID\n",
    "M$ID = NULL\n",
    "## calculate allele freq of each marker (p and q)\n",
    "p = apply(M, 2, mean)/2\n",
    "P = matrix(rep(p*2, nrow(M)), ncol=ncol(M), nrow=nrow(M), byrow=TRUE)\n",
    "rownames(P) = rownames(M)\n",
    "colnames(P) = colnames(M)\n",
    "dim(P)  ## same dimemnsion of M\n",
    "q = 1 - p\n",
    "## scale G matrix (divide by the mean)\n",
    "sum2pq = 2*sum(p*q)\n",
    "## calculate Z matriz (G = Z'Z/sum(2pq))\n",
    "Z = M - P\n",
    "Z = as.matrix(Z)\n",
    "## calculate G\n",
    "G = (Z %*% t(Z)) / sum2pq\n",
    "dim(G)\n",
    "round(G[1:5,1:5], 3)\n",
    "##plot G matix\n",
    "heatmap(G)\n",
    "## save G matrix (wide format)\n",
    "write.table(G, \"~/<path>/G_matrix_wide_format.txt\", quote = F, row.names = F)\n",
    "\n",
    "## convert to long format (melt data)\n",
    "G = as.matrix(G)\n",
    "G_melt = melt(G)\n",
    "head(G_melt)\n",
    "## save G matrix (long format)\n",
    "write.table(G, \"~/<path>/G_matrix_long_format.txt\", quote = F, row.names = F)\n",
    "\n",
    "##plot G matrix \n",
    "ggplot(G_melt, aes(x = Var1, y = Var2, fill = value))+\n",
    "  geom_tile()"
   ]
  },
  {
   "cell_type": "markdown",
   "metadata": {},
   "source": [
    "Example output files:\n",
    "\n",
    "1) G_matrix_wide_format:\n",
    "\n",
    "<img src=\"G.png\" />"
   ]
  },
  {
   "cell_type": "markdown",
   "metadata": {},
   "source": [
    "2) G_matrix_long_format:\n",
    "\n",
    "<img src=\"G_long_format.png\" />"
   ]
  },
  {
   "cell_type": "code",
   "execution_count": null,
   "metadata": {},
   "outputs": [],
   "source": []
  }
 ],
 "metadata": {
  "kernelspec": {
   "display_name": "Julia 1.1.0",
   "language": "julia",
   "name": "julia-1.1"
  },
  "language_info": {
   "file_extension": ".jl",
   "mimetype": "application/julia",
   "name": "julia",
   "version": "1.1.0"
  }
 },
 "nbformat": 4,
 "nbformat_minor": 2
}
